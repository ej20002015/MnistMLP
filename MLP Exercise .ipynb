{
 "cells": [
  {
   "cell_type": "markdown",
   "metadata": {},
   "source": [
    "### Multi-layer Perceptron Exercise\n",
    "#### In this exercise, we will implement the multi-perceptron algorithm with two hidden layers. \n",
    "#### The implementation of the MLP algorithm will be in the mlp.py file but you will test your implementation \n",
    "#### in this notebook. In this exercise we will use the MNIST dataset that we used for week 2 lab (KNN). "
   ]
  },
  {
   "cell_type": "code",
   "execution_count": 176,
   "metadata": {},
   "outputs": [
    {
     "name": "stdout",
     "output_type": "stream",
     "text": [
      "The autoreload extension is already loaded. To reload it, use:\n",
      "  %reload_ext autoreload\n"
     ]
    }
   ],
   "source": [
    "# importing the MLP algorithm from mlp.py file \n",
    "# where you will implement the MLP algorithm \n",
    "from mlp import MLP \n",
    "import numpy as np\n",
    "\n",
    "# This is to reload all changed modules every time before executing a new line.\n",
    "# https://stackoverflow.com/questions/5364050/reloading-submodules-in-ipython\n",
    "%load_ext autoreload\n",
    "%autoreload 2"
   ]
  },
  {
   "cell_type": "code",
   "execution_count": 177,
   "metadata": {},
   "outputs": [
    {
     "name": "stdout",
     "output_type": "stream",
     "text": [
      "(50000, 784) (10000, 784) (10000, 784)\n"
     ]
    }
   ],
   "source": [
    "# loading the MNIST datatset\n",
    "import pickle, gzip\n",
    "\n",
    "f = gzip.open('mnist.pkl.gz','rb')\n",
    "tset, vset, teset = pickle.load(f, encoding='latin1')\n",
    "print(tset[0].shape, vset[0].shape, teset[0].shape)\n",
    "f.close()"
   ]
  },
  {
   "cell_type": "code",
   "execution_count": 178,
   "metadata": {},
   "outputs": [
    {
     "data": {
      "image/png": "[encoded data removed]",
      "text/plain": [
       "<Figure size 432x288 with 10 Axes>"
      ]
     },
     "metadata": {
      "needs_background": "light"
     },
     "output_type": "display_data"
    }
   ],
   "source": [
    "import matplotlib.pyplot as plt # To install: pip install matplotlib\n",
    "\n",
    "# visualise some examples from the dataset \n",
    "fig, ax = plt.subplots(2,5)\n",
    "for i, ax in enumerate(ax.flatten()):\n",
    "    im_idx = np.argwhere(teset[1] == i)[0]\n",
    "    plottable_image = np.reshape(teset[0][im_idx], (28, 28))\n",
    "    ax.imshow(plottable_image, cmap='gray_r')"
   ]
  },
  {
   "cell_type": "code",
   "execution_count": 179,
   "metadata": {},
   "outputs": [],
   "source": [
    "# we will use only 9000 images for training and 1000 for testing \n",
    "\n",
    "# Just use the first 9000 images for training \n",
    "tread = 9000\n",
    "train_in = tset[0][:tread,:]\n",
    "\n",
    "# This is a little bit of work -- 1 of N encoding\n",
    "# Make sure you understand how it does it\n",
    "train_tgt = np.zeros((tread,10))\n",
    "for i in range(tread):\n",
    "    train_tgt[i,tset[1][i]] = 1\n",
    "\n",
    "# and use 1000 images for testing\n",
    "teread = 1000\n",
    "test_in = teset[0][:teread,:]\n",
    "test_tgt = np.zeros((teread,10))\n",
    "for i in range(teread):\n",
    "    test_tgt[i,teset[1][i]] = 1"
   ]
  },
  {
   "cell_type": "markdown",
   "metadata": {},
   "source": [
    "#### Initialise the MLP classifier "
   ]
  },
  {
   "cell_type": "code",
   "execution_count": 180,
   "metadata": {},
   "outputs": [],
   "source": [
    "# We choose the first and second hidden layers to have 5 neurons each.\n",
    "sizes = [784,5,5,10] # 784 is the number of pixels of the images and 10 is the number of classes \n",
    "classifier = MLP(sizes)"
   ]
  },
  {
   "cell_type": "code",
   "execution_count": 181,
   "metadata": {},
   "outputs": [
    {
     "name": "stdout",
     "output_type": "stream",
     "text": [
      "Iteration:  0  Error:  4129.822564448788\n"
     ]
    },
    {
     "ename": "TypeError",
     "evalue": "ufunc 'subtract' output (typecode 'O') could not be coerced to provided output parameter (typecode 'd') according to the casting rule ''same_kind''",
     "output_type": "error",
     "traceback": [
      "\u001b[0;31m---------------------------------------------------------------------------\u001b[0m",
      "\u001b[0;31mTypeError\u001b[0m                                 Traceback (most recent call last)",
      "\u001b[0;32m/tmp/ipykernel_12680/3245367598.py\u001b[0m in \u001b[0;36m<module>\u001b[0;34m\u001b[0m\n\u001b[1;32m      2\u001b[0m \u001b[0;31m# test your implementation here\u001b[0m\u001b[0;34m\u001b[0m\u001b[0;34m\u001b[0m\u001b[0;34m\u001b[0m\u001b[0m\n\u001b[1;32m      3\u001b[0m \u001b[0;31m# for now, let's keep the learning rate and the number of iterations unchanged\u001b[0m\u001b[0;34m\u001b[0m\u001b[0;34m\u001b[0m\u001b[0;34m\u001b[0m\u001b[0m\n\u001b[0;32m----> 4\u001b[0;31m \u001b[0mclassifier\u001b[0m\u001b[0;34m.\u001b[0m\u001b[0mtrain\u001b[0m\u001b[0;34m(\u001b[0m\u001b[0mtrain_in\u001b[0m\u001b[0;34m,\u001b[0m \u001b[0mtrain_tgt\u001b[0m\u001b[0;34m,\u001b[0m \u001b[0;36m0.1\u001b[0m\u001b[0;34m,\u001b[0m \u001b[0;36m1000\u001b[0m\u001b[0;34m)\u001b[0m\u001b[0;34m\u001b[0m\u001b[0;34m\u001b[0m\u001b[0m\n\u001b[0m",
      "\u001b[0;32m~/Documents/Year4/MachineLearning/Coursework/CWK1/ml-cwk1/mlp.py\u001b[0m in \u001b[0;36mtrain\u001b[0;34m(self, inputs, targets, eta, niterations)\u001b[0m\n\u001b[1;32m     95\u001b[0m             \u001b[0mupdatew3\u001b[0m \u001b[0;34m=\u001b[0m \u001b[0;32mNone\u001b[0m\u001b[0;34m\u001b[0m\u001b[0;34m\u001b[0m\u001b[0m\n\u001b[1;32m     96\u001b[0m \u001b[0;34m\u001b[0m\u001b[0m\n\u001b[0;32m---> 97\u001b[0;31m             \u001b[0mself\u001b[0m\u001b[0;34m.\u001b[0m\u001b[0mweights1\u001b[0m \u001b[0;34m-=\u001b[0m \u001b[0mupdatew1\u001b[0m\u001b[0;34m\u001b[0m\u001b[0;34m\u001b[0m\u001b[0m\n\u001b[0m\u001b[1;32m     98\u001b[0m             \u001b[0mself\u001b[0m\u001b[0;34m.\u001b[0m\u001b[0mweights2\u001b[0m \u001b[0;34m-=\u001b[0m \u001b[0mupdatew2\u001b[0m\u001b[0;34m\u001b[0m\u001b[0;34m\u001b[0m\u001b[0m\n\u001b[1;32m     99\u001b[0m             \u001b[0mself\u001b[0m\u001b[0;34m.\u001b[0m\u001b[0mweights3\u001b[0m \u001b[0;34m-=\u001b[0m \u001b[0mupdatew3\u001b[0m\u001b[0;34m\u001b[0m\u001b[0;34m\u001b[0m\u001b[0m\n",
      "\u001b[0;31mTypeError\u001b[0m: ufunc 'subtract' output (typecode 'O') could not be coerced to provided output parameter (typecode 'd') according to the casting rule ''same_kind''"
     ]
    }
   ],
   "source": [
    "# TODO: open the mlp.py file and implement self.forwardPass and self.train methods\n",
    "# test your implementation here \n",
    "# for now, let's keep the learning rate and the number of iterations unchanged  \n",
    "classifier.train(train_in, train_tgt, 0.1, 1000)"
   ]
  },
  {
   "cell_type": "code",
   "execution_count": null,
   "metadata": {},
   "outputs": [],
   "source": [
    "# we evaluate our model on the testing set \n",
    "# and show the confusion matrix and the accuracy\n",
    "classifier.evaluate(test_in, test_tgt)"
   ]
  },
  {
   "cell_type": "code",
   "execution_count": null,
   "metadata": {},
   "outputs": [],
   "source": [
    "# you should expect the accuracy to be really low ~ most likely less than %50\n",
    "# I think we can do better by experimenting with different learning rate and \n",
    "# number of neurons in each hidden layer. "
   ]
  },
  {
   "cell_type": "code",
   "execution_count": null,
   "metadata": {},
   "outputs": [],
   "source": [
    "# TODO: modify the network parameters to get the test accuracy above %90 \n",
    "# you can change the learning rate, the number of neurons of each hidden layer\n",
    "# and number of iterations. You can also implement the gradient descent algorithm\n",
    "# with momentum and experiment it with different momentum values. "
   ]
  },
  {
   "cell_type": "code",
   "execution_count": null,
   "metadata": {},
   "outputs": [],
   "source": [
    "best_sizes = None\n",
    "best_beta = None\n",
    "best_momentum = None\n",
    "best_lr = None # best learning rate\n",
    "best_niterations = None\n",
    "best_classifier = MLP(sizes = best_sizes, beta=best_beta, momentum=best_momentum)\n",
    "best_classifier.train(train_in, train_tgt, best_lr, best_niterations)\n",
    "best_classifier.evaluate(test_in, test_tgt)"
   ]
  },
  {
   "cell_type": "code",
   "execution_count": null,
   "metadata": {},
   "outputs": [],
   "source": [
    "# TODO: run the following code to save the best parameters and \n",
    "# the weights of the network that achieves the desired accuracy\n",
    "best_parameters = {\n",
    "    'sizes': best_sizes,\n",
    "    'beta': best_beta,\n",
    "    'momentum': best_momentum,\n",
    "    'lr': best_lr,\n",
    "    'niterations': best_niterations,\n",
    "    'weights_1': best_classifier.weights1,\n",
    "    'weights_2': best_classifier.weights2,\n",
    "    'weights_3': best_classifier.weights3,\n",
    "}\n",
    "\n",
    "with open('best_classifier.pkl', 'wb') as handle:\n",
    "    pickle.dump(best_parameters, handle, protocol=pickle.HIGHEST_PROTOCOL)"
   ]
  }
 ],
 "metadata": {
  "kernelspec": {
   "display_name": "Python 3",
   "language": "python",
   "name": "python3"
  },
  "language_info": {
   "codemirror_mode": {
    "name": "ipython",
    "version": 3
   },
   "file_extension": ".py",
   "mimetype": "text/x-python",
   "name": "python",
   "nbconvert_exporter": "python",
   "pygments_lexer": "ipython3",
   "version": "3.7.3"
  }
 },
 "nbformat": 4,
 "nbformat_minor": 4
}
